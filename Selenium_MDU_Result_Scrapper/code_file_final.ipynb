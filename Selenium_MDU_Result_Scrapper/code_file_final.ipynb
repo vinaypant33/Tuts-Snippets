{
 "cells": [
  {
   "cell_type": "markdown",
   "metadata": {},
   "source": [
    "## Setps : \n",
    "\n",
    "Make code for brute forcing the roll number and save them in text files each file size should not exceed 100 mb in each case make new text file and save them in the folder. For this make a tkinter utility and \n",
    "\n",
    "Code for selenium which will check the roll number from the file and confirm if the result is visible or not : It should be fast enough to check the roll number \n",
    "\n",
    "Make the code to distribute the load to multiple computers and then a single program will control all of that will connect 4 to 5 computerd and will connect 2-3 mobiles phones will make the app in tkitner and kivy for the mobile phones  ( or kivy itself for both the platforms )\n",
    "\n",
    "\n"
   ]
  },
  {
   "cell_type": "markdown",
   "metadata": {},
   "source": [
    "## Setp 2 ( Selenium Part )"
   ]
  },
  {
   "cell_type": "code",
   "execution_count": 1,
   "metadata": {},
   "outputs": [],
   "source": [
    "from selenium import webdriver\n",
    "from selenium.webdriver.common.keys import Keys\n",
    "from selenium.webdriver.support.ui import Select\n",
    "from selenium.webdriver.common.by import By "
   ]
  },
  {
   "cell_type": "code",
   "execution_count": null,
   "metadata": {},
   "outputs": [],
   "source": [
    "# Creating actual browser : \n",
    "options = webdriver.ChromeOptions()\n",
    "#options.add_experimental_option(\"detach\", True)\n",
    "#driver = webdriver.Chrome(options = options)\n",
    "driver = webdriver.Chrome()\n",
    "driver.maximize_window()"
   ]
  },
  {
   "cell_type": "code",
   "execution_count": null,
   "metadata": {},
   "outputs": [
    {
     "ename": "NoSuchWindowException",
     "evalue": "Message: no such window: target window already closed\nfrom unknown error: web view not found\n  (Session info: chrome=124.0.6367.79)\nStacktrace:\n\tGetHandleVerifier [0x00007FF671611502+60802]\n\t(No symbol) [0x00007FF67158AC02]\n\t(No symbol) [0x00007FF671447CE4]\n\t(No symbol) [0x00007FF67141DFDF]\n\t(No symbol) [0x00007FF6714C1E57]\n\t(No symbol) [0x00007FF6714D98D1]\n\t(No symbol) [0x00007FF6714BA923]\n\t(No symbol) [0x00007FF671488FEC]\n\t(No symbol) [0x00007FF671489C21]\n\tGetHandleVerifier [0x00007FF67191411D+3217821]\n\tGetHandleVerifier [0x00007FF6719560B7+3488055]\n\tGetHandleVerifier [0x00007FF67194F03F+3459263]\n\tGetHandleVerifier [0x00007FF6716CB846+823494]\n\t(No symbol) [0x00007FF671595F9F]\n\t(No symbol) [0x00007FF671590EC4]\n\t(No symbol) [0x00007FF671591052]\n\t(No symbol) [0x00007FF6715818A4]\n\tBaseThreadInitThunk [0x00007FFA65B5257D+29]\n\tRtlUserThreadStart [0x00007FFA66D6AA48+40]\n",
     "output_type": "error",
     "traceback": [
      "\u001b[1;31m---------------------------------------------------------------------------\u001b[0m",
      "\u001b[1;31mNoSuchWindowException\u001b[0m                     Traceback (most recent call last)",
      "Cell \u001b[1;32mIn[10], line 10\u001b[0m\n\u001b[0;32m      1\u001b[0m \u001b[38;5;124;03m'''\u001b[39;00m\n\u001b[0;32m      2\u001b[0m \u001b[38;5;124;03mMake the url name as the variable and then make the web base for the roll number : \u001b[39;00m\n\u001b[0;32m      3\u001b[0m \u001b[38;5;124;03mthis would run in loop until the marksheet is not found \u001b[39;00m\n\u001b[1;32m   (...)\u001b[0m\n\u001b[0;32m      6\u001b[0m \n\u001b[0;32m      7\u001b[0m \u001b[38;5;124;03m'''\u001b[39;00m\n\u001b[0;32m      9\u001b[0m base_url   \u001b[38;5;241m=\u001b[39m \u001b[38;5;124m\"\u001b[39m\u001b[38;5;124mhttps://result.mdurtk.in/postexam/result.aspx\u001b[39m\u001b[38;5;124m\"\u001b[39m\n\u001b[1;32m---> 10\u001b[0m \u001b[43mdriver\u001b[49m\u001b[38;5;241;43m.\u001b[39;49m\u001b[43mget\u001b[49m\u001b[43m(\u001b[49m\u001b[43mbase_url\u001b[49m\u001b[43m)\u001b[49m\n",
      "File \u001b[1;32mc:\\Users\\vinay\\AppData\\Local\\Programs\\Python\\Python310\\lib\\site-packages\\selenium\\webdriver\\remote\\webdriver.py:356\u001b[0m, in \u001b[0;36mWebDriver.get\u001b[1;34m(self, url)\u001b[0m\n\u001b[0;32m    354\u001b[0m \u001b[38;5;28;01mdef\u001b[39;00m \u001b[38;5;21mget\u001b[39m(\u001b[38;5;28mself\u001b[39m, url: \u001b[38;5;28mstr\u001b[39m) \u001b[38;5;241m-\u001b[39m\u001b[38;5;241m>\u001b[39m \u001b[38;5;28;01mNone\u001b[39;00m:\n\u001b[0;32m    355\u001b[0m \u001b[38;5;250m    \u001b[39m\u001b[38;5;124;03m\"\"\"Loads a web page in the current browser session.\"\"\"\u001b[39;00m\n\u001b[1;32m--> 356\u001b[0m     \u001b[38;5;28;43mself\u001b[39;49m\u001b[38;5;241;43m.\u001b[39;49m\u001b[43mexecute\u001b[49m\u001b[43m(\u001b[49m\u001b[43mCommand\u001b[49m\u001b[38;5;241;43m.\u001b[39;49m\u001b[43mGET\u001b[49m\u001b[43m,\u001b[49m\u001b[43m \u001b[49m\u001b[43m{\u001b[49m\u001b[38;5;124;43m\"\u001b[39;49m\u001b[38;5;124;43murl\u001b[39;49m\u001b[38;5;124;43m\"\u001b[39;49m\u001b[43m:\u001b[49m\u001b[43m \u001b[49m\u001b[43murl\u001b[49m\u001b[43m}\u001b[49m\u001b[43m)\u001b[49m\n",
      "File \u001b[1;32mc:\\Users\\vinay\\AppData\\Local\\Programs\\Python\\Python310\\lib\\site-packages\\selenium\\webdriver\\remote\\webdriver.py:347\u001b[0m, in \u001b[0;36mWebDriver.execute\u001b[1;34m(self, driver_command, params)\u001b[0m\n\u001b[0;32m    345\u001b[0m response \u001b[38;5;241m=\u001b[39m \u001b[38;5;28mself\u001b[39m\u001b[38;5;241m.\u001b[39mcommand_executor\u001b[38;5;241m.\u001b[39mexecute(driver_command, params)\n\u001b[0;32m    346\u001b[0m \u001b[38;5;28;01mif\u001b[39;00m response:\n\u001b[1;32m--> 347\u001b[0m     \u001b[38;5;28;43mself\u001b[39;49m\u001b[38;5;241;43m.\u001b[39;49m\u001b[43merror_handler\u001b[49m\u001b[38;5;241;43m.\u001b[39;49m\u001b[43mcheck_response\u001b[49m\u001b[43m(\u001b[49m\u001b[43mresponse\u001b[49m\u001b[43m)\u001b[49m\n\u001b[0;32m    348\u001b[0m     response[\u001b[38;5;124m\"\u001b[39m\u001b[38;5;124mvalue\u001b[39m\u001b[38;5;124m\"\u001b[39m] \u001b[38;5;241m=\u001b[39m \u001b[38;5;28mself\u001b[39m\u001b[38;5;241m.\u001b[39m_unwrap_value(response\u001b[38;5;241m.\u001b[39mget(\u001b[38;5;124m\"\u001b[39m\u001b[38;5;124mvalue\u001b[39m\u001b[38;5;124m\"\u001b[39m, \u001b[38;5;28;01mNone\u001b[39;00m))\n\u001b[0;32m    349\u001b[0m     \u001b[38;5;28;01mreturn\u001b[39;00m response\n",
      "File \u001b[1;32mc:\\Users\\vinay\\AppData\\Local\\Programs\\Python\\Python310\\lib\\site-packages\\selenium\\webdriver\\remote\\errorhandler.py:229\u001b[0m, in \u001b[0;36mErrorHandler.check_response\u001b[1;34m(self, response)\u001b[0m\n\u001b[0;32m    227\u001b[0m         alert_text \u001b[38;5;241m=\u001b[39m value[\u001b[38;5;124m\"\u001b[39m\u001b[38;5;124malert\u001b[39m\u001b[38;5;124m\"\u001b[39m]\u001b[38;5;241m.\u001b[39mget(\u001b[38;5;124m\"\u001b[39m\u001b[38;5;124mtext\u001b[39m\u001b[38;5;124m\"\u001b[39m)\n\u001b[0;32m    228\u001b[0m     \u001b[38;5;28;01mraise\u001b[39;00m exception_class(message, screen, stacktrace, alert_text)  \u001b[38;5;66;03m# type: ignore[call-arg]  # mypy is not smart enough here\u001b[39;00m\n\u001b[1;32m--> 229\u001b[0m \u001b[38;5;28;01mraise\u001b[39;00m exception_class(message, screen, stacktrace)\n",
      "\u001b[1;31mNoSuchWindowException\u001b[0m: Message: no such window: target window already closed\nfrom unknown error: web view not found\n  (Session info: chrome=124.0.6367.79)\nStacktrace:\n\tGetHandleVerifier [0x00007FF671611502+60802]\n\t(No symbol) [0x00007FF67158AC02]\n\t(No symbol) [0x00007FF671447CE4]\n\t(No symbol) [0x00007FF67141DFDF]\n\t(No symbol) [0x00007FF6714C1E57]\n\t(No symbol) [0x00007FF6714D98D1]\n\t(No symbol) [0x00007FF6714BA923]\n\t(No symbol) [0x00007FF671488FEC]\n\t(No symbol) [0x00007FF671489C21]\n\tGetHandleVerifier [0x00007FF67191411D+3217821]\n\tGetHandleVerifier [0x00007FF6719560B7+3488055]\n\tGetHandleVerifier [0x00007FF67194F03F+3459263]\n\tGetHandleVerifier [0x00007FF6716CB846+823494]\n\t(No symbol) [0x00007FF671595F9F]\n\t(No symbol) [0x00007FF671590EC4]\n\t(No symbol) [0x00007FF671591052]\n\t(No symbol) [0x00007FF6715818A4]\n\tBaseThreadInitThunk [0x00007FFA65B5257D+29]\n\tRtlUserThreadStart [0x00007FFA66D6AA48+40]\n"
     ]
    }
   ],
   "source": [
    "'''\n",
    "Make the url name as the variable and then make the web base for the roll number : \n",
    "this would run in loop until the marksheet is not found \n",
    "\n",
    "loop to run on and on and each iteration to be checked from the file which are in turn divided in the multiple files which were distributed through the network for parallel computing \n",
    "\n",
    "'''\n",
    "\n",
    "base_url   = \"https://result.mdurtk.in/postexam/result.aspx\"\n",
    "driver.get(base_url)"
   ]
  },
  {
   "cell_type": "code",
   "execution_count": null,
   "metadata": {},
   "outputs": [],
   "source": []
  }
 ],
 "metadata": {
  "kernelspec": {
   "display_name": "Python 3",
   "language": "python",
   "name": "python3"
  },
  "language_info": {
   "codemirror_mode": {
    "name": "ipython",
    "version": 3
   },
   "file_extension": ".py",
   "mimetype": "text/x-python",
   "name": "python",
   "nbconvert_exporter": "python",
   "pygments_lexer": "ipython3",
   "version": "3.10.9"
  }
 },
 "nbformat": 4,
 "nbformat_minor": 2
}
