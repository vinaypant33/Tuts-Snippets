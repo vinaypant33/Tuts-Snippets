{
 "cells": [
  {
   "cell_type": "code",
   "execution_count": 14,
   "metadata": {},
   "outputs": [],
   "source": [
    "import itertools\n",
    "import os"
   ]
  },
  {
   "cell_type": "code",
   "execution_count": 15,
   "metadata": {},
   "outputs": [],
   "source": [
    "def brute_force():\n",
    "    digits = [0, 1, 2, 3, 4, 5, 6, 7, 8, 9]\n",
    "    for combination in itertools.product(digits, repeat=8):\n",
    "        print(''.join(map(str, combination)))"
   ]
  },
  {
   "cell_type": "code",
   "execution_count": 16,
   "metadata": {},
   "outputs": [
    {
     "ename": "UnboundLocalError",
     "evalue": "local variable 'file_name' referenced before assignment",
     "output_type": "error",
     "traceback": [
      "\u001b[1;31m---------------------------------------------------------------------------\u001b[0m",
      "\u001b[1;31mUnboundLocalError\u001b[0m                         Traceback (most recent call last)",
      "Cell \u001b[1;32mIn[16], line 19\u001b[0m\n\u001b[0;32m     16\u001b[0m     \u001b[38;5;28;01mreturn\u001b[39;00m total_combinations, file_size_megabytes\n\u001b[0;32m     18\u001b[0m password_length \u001b[38;5;241m=\u001b[39m \u001b[38;5;241m8\u001b[39m\n\u001b[1;32m---> 19\u001b[0m total_combinations, file_size_megabytes \u001b[38;5;241m=\u001b[39m \u001b[43mbrute_force\u001b[49m\u001b[43m(\u001b[49m\u001b[38;5;124;43m\"\u001b[39;49m\u001b[38;5;124;43m1.txt\u001b[39;49m\u001b[38;5;124;43m\"\u001b[39;49m\u001b[43m,\u001b[49m\u001b[43m \u001b[49m\u001b[43mpassword_length\u001b[49m\u001b[43m)\u001b[49m\n\u001b[0;32m     20\u001b[0m \u001b[38;5;28mprint\u001b[39m(\u001b[38;5;124mf\u001b[39m\u001b[38;5;124m\"\u001b[39m\u001b[38;5;124mTotal combinations: \u001b[39m\u001b[38;5;132;01m{\u001b[39;00mtotal_combinations\u001b[38;5;132;01m}\u001b[39;00m\u001b[38;5;124m\"\u001b[39m)\n\u001b[0;32m     21\u001b[0m \u001b[38;5;28mprint\u001b[39m(\u001b[38;5;124mf\u001b[39m\u001b[38;5;124m\"\u001b[39m\u001b[38;5;124mFile size: \u001b[39m\u001b[38;5;132;01m{\u001b[39;00mfile_size_megabytes\u001b[38;5;132;01m}\u001b[39;00m\u001b[38;5;124m + MB\u001b[39m\u001b[38;5;124m\"\u001b[39m)\n",
      "Cell \u001b[1;32mIn[16], line 6\u001b[0m, in \u001b[0;36mbrute_force\u001b[1;34m(file_path, password_length)\u001b[0m\n\u001b[0;32m      5\u001b[0m \u001b[38;5;28;01mdef\u001b[39;00m \u001b[38;5;21mbrute_force\u001b[39m(file_path ,  password_length):\n\u001b[1;32m----> 6\u001b[0m     file_path  \u001b[38;5;241m=\u001b[39m \u001b[38;5;28mstr\u001b[39m(\u001b[43mfile_name\u001b[49m)\n\u001b[0;32m      7\u001b[0m     digits \u001b[38;5;241m=\u001b[39m [\u001b[38;5;241m0\u001b[39m, \u001b[38;5;241m1\u001b[39m, \u001b[38;5;241m2\u001b[39m, \u001b[38;5;241m3\u001b[39m, \u001b[38;5;241m4\u001b[39m, \u001b[38;5;241m5\u001b[39m, \u001b[38;5;241m6\u001b[39m, \u001b[38;5;241m7\u001b[39m, \u001b[38;5;241m8\u001b[39m, \u001b[38;5;241m9\u001b[39m]\n\u001b[0;32m      8\u001b[0m     total_combinations \u001b[38;5;241m=\u001b[39m \u001b[38;5;28mlen\u001b[39m(digits) \u001b[38;5;241m*\u001b[39m\u001b[38;5;241m*\u001b[39m password_length\n",
      "\u001b[1;31mUnboundLocalError\u001b[0m: local variable 'file_name' referenced before assignment"
     ]
    }
   ],
   "source": [
    "# Make the fucntion to save the data in text file and check the file size if the file size if more than 100 Mb thenthe file name will be chantged\n",
    "\n",
    "file_name  = 1\n",
    "\n",
    "def brute_force(file_path ,  password_length):\n",
    "    file_path  = str(file_name)\n",
    "    digits = [0, 1, 2, 3, 4, 5, 6, 7, 8, 9]\n",
    "    total_combinations = len(digits) ** password_length\n",
    "    file_size_megabytes = (total_combinations * password_length) / 1000000\n",
    "    with open(file_path, 'w') as file:\n",
    "        if file_size_megabytes > 100:\n",
    "            file_name  = file_name + 1\n",
    "            file_path = str(file_name)\n",
    "            for combination in itertools.product(digits, repeat=password_length):\n",
    "                file.write(''.join(map(str, combination)) + '\\n')\n",
    "    return total_combinations, file_size_megabytes\n",
    "    \n",
    "password_length = 8\n",
    "total_combinations, file_size_megabytes = brute_force(\"1.txt\", password_length)\n",
    "print(f\"Total combinations: {total_combinations}\")\n",
    "print(f\"File size: {file_size_megabytes} + MB\")"
   ]
  },
  {
   "cell_type": "code",
   "execution_count": null,
   "metadata": {},
   "outputs": [],
   "source": []
  }
 ],
 "metadata": {
  "kernelspec": {
   "display_name": "Python 3",
   "language": "python",
   "name": "python3"
  },
  "language_info": {
   "codemirror_mode": {
    "name": "ipython",
    "version": 3
   },
   "file_extension": ".py",
   "mimetype": "text/x-python",
   "name": "python",
   "nbconvert_exporter": "python",
   "pygments_lexer": "ipython3",
   "version": "3.10.9"
  }
 },
 "nbformat": 4,
 "nbformat_minor": 2
}
